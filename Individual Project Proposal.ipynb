{
 "cells": [
  {
   "cell_type": "markdown",
   "id": "414960ac",
   "metadata": {},
   "source": [
    "## Research Question\n",
    "### **How have the Canadian's housing satisfaction affected their well-being?**"
   ]
  },
  {
   "cell_type": "markdown",
   "id": "af3dfdec",
   "metadata": {},
   "source": [
    "### Description\n",
    "\n",
    "I would like to explore all of **Canadian's housing satisfaction scale variables**, which are their satisfaction with access to public transport, community programs, private and semi-private outdoor spaces, public open spaces or low-cost recreation spaces, etc., and compare them with the **burnout measure variables**, consisting of feeling tired, disappointed, homeless, trapped, helpless, etc. \n",
    "\n",
    "The reason why I chose these variables is because I believe that housing satisfaction is affected by the quality and accessibility of basic living needs and amenities, which can significantly impact people's daily life, esepcially their stress levels and well-being. Housing satisfaction is also tightly connected to overall quality of life, giving a direct influence on individual's mental health."
   ]
  },
  {
   "cell_type": "markdown",
   "id": "0ffaeb75",
   "metadata": {},
   "source": [
    "### Analysis Plan\n",
    "\n",
    "I am planning to do **multiple regression** since I am using multiple variables as the predictor, which is Canadian's housing satisfaction on numerous factors, and predicting one outcome, which is the burnout measure that I will take as one variable by calculating the mean, followed by calculating the **p-value** to find the significance of my data. I will be using **scatterplot** to visualize my data and correlation to see potential linear relationships between pairs of variables since it allows me to determine the trend of particular pair of variables and the patterns that show up as well as calculating the strength of the correlation between pairs of variables."
   ]
  },
  {
   "cell_type": "markdown",
   "id": "cd593264",
   "metadata": {},
   "source": [
    "### Possible Results\n",
    "\n",
    "My analysis could reveal the **strength and direction (positive or negative)** of the relationships between housing satisfaction and burnout measures.\n",
    "\n",
    "**H0** = There is no significant relationship between housing satisfaction variables and burnout measures. <br>\n",
    "**H1** = There is a significant relationship between housing satisfaction variables and burnout measures, indicating negative relationship between those variables, or the higher housing satisfaction is associated with lower burnout level."
   ]
  },
  {
   "cell_type": "markdown",
   "id": "ba370a18",
   "metadata": {},
   "source": [
    "### Relevancies of My Analysis to the Course Project's Objectives\n",
    "\n",
    "Housing satisfaction can indicates that an environment is supportive in building social connections within the community. By providing access to various amenities, people will be more engaged to their community and thus, may impact their own's well-being."
   ]
  }
 ],
 "metadata": {
  "kernelspec": {
   "display_name": "Python 3 (ipykernel)",
   "language": "python",
   "name": "python3"
  },
  "language_info": {
   "codemirror_mode": {
    "name": "ipython",
    "version": 3
   },
   "file_extension": ".py",
   "mimetype": "text/x-python",
   "name": "python",
   "nbconvert_exporter": "python",
   "pygments_lexer": "ipython3",
   "version": "3.11.6"
  }
 },
 "nbformat": 4,
 "nbformat_minor": 5
}
